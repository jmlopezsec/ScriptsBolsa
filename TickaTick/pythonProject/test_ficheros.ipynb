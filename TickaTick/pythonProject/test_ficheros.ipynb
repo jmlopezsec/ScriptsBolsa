{
 "cells": [
  {
   "cell_type": "code",
   "id": "initial_id",
   "metadata": {
    "collapsed": true,
    "ExecuteTime": {
     "end_time": "2025-09-28T21:12:12.985115Z",
     "start_time": "2025-09-28T21:12:12.940566Z"
    }
   },
   "source": [
    "import os\n",
    "import pandas as pd\n",
    "import pytz\n",
    "import matplotlib.pyplot as plt\n",
    "from datetime import datetime\n",
    "\n",
    "# Para que los gráficos se vean en el notebook\n",
    "%matplotlib inline\n"
   ],
   "outputs": [
    {
     "ename": "ModuleNotFoundError",
     "evalue": "No module named 'matplotlib'",
     "output_type": "error",
     "traceback": [
      "\u001B[31m---------------------------------------------------------------------------\u001B[39m",
      "\u001B[31mModuleNotFoundError\u001B[39m                       Traceback (most recent call last)",
      "\u001B[36mCell\u001B[39m\u001B[36m \u001B[39m\u001B[32mIn[2]\u001B[39m\u001B[32m, line 4\u001B[39m\n\u001B[32m      2\u001B[39m \u001B[38;5;28;01mimport\u001B[39;00m\u001B[38;5;250m \u001B[39m\u001B[34;01mpandas\u001B[39;00m\u001B[38;5;250m \u001B[39m\u001B[38;5;28;01mas\u001B[39;00m\u001B[38;5;250m \u001B[39m\u001B[34;01mpd\u001B[39;00m\n\u001B[32m      3\u001B[39m \u001B[38;5;28;01mimport\u001B[39;00m\u001B[38;5;250m \u001B[39m\u001B[34;01mpytz\u001B[39;00m\n\u001B[32m----> \u001B[39m\u001B[32m4\u001B[39m \u001B[38;5;28;01mimport\u001B[39;00m\u001B[38;5;250m \u001B[39m\u001B[34;01mmatplotlib\u001B[39;00m\u001B[34;01m.\u001B[39;00m\u001B[34;01mpyplot\u001B[39;00m\u001B[38;5;250m \u001B[39m\u001B[38;5;28;01mas\u001B[39;00m\u001B[38;5;250m \u001B[39m\u001B[34;01mplt\u001B[39;00m\n\u001B[32m      5\u001B[39m \u001B[38;5;28;01mfrom\u001B[39;00m\u001B[38;5;250m \u001B[39m\u001B[34;01mdatetime\u001B[39;00m\u001B[38;5;250m \u001B[39m\u001B[38;5;28;01mimport\u001B[39;00m datetime\n\u001B[32m      7\u001B[39m \u001B[38;5;66;03m# Para que los gráficos se vean en el notebook\u001B[39;00m\n",
      "\u001B[31mModuleNotFoundError\u001B[39m: No module named 'matplotlib'"
     ]
    }
   ],
   "execution_count": 2
  },
  {
   "metadata": {},
   "cell_type": "code",
   "outputs": [],
   "execution_count": null,
   "source": [
    "# Carpeta donde tienes los ficheros de sesiones\n",
    "DATA_DIR = \"./data/SPY\"\n",
    "\n",
    "# Zona horaria de España\n",
    "SPAIN_TZ = pytz.timezone(\"Europe/Madrid\")\n"
   ],
   "id": "3b5111cbf30d35aa"
  },
  {
   "metadata": {},
   "cell_type": "code",
   "outputs": [],
   "execution_count": null,
   "source": [
    "def read_session_file(file_path):\n",
    "    \"\"\"\n",
    "    Lee un fichero Excel de IB, convierte time de UTC a España y calcula price medio\n",
    "    \"\"\"\n",
    "    df = pd.read_excel(file_path)\n",
    "    \n",
    "    # Convertir columna 'time' a datetime tz-aware UTC\n",
    "    df['time'] = pd.to_datetime(df['time'], utc=True)\n",
    "    \n",
    "    # Convertir a hora de España\n",
    "    df['time_es'] = df['time'].dt.tz_convert(SPAIN_TZ)\n",
    "    \n",
    "    # Calcular precio medio de cada barra\n",
    "    if 'high' in df.columns and 'low' in df.columns:\n",
    "        df['price_avg'] = (df['high'] + df['low']) / 2\n",
    "    else:\n",
    "        # Si solo tienes bid/ask, usa (bid+ask)/2\n",
    "        df['price_avg'] = (df['bid'] + df['ask']) / 2\n",
    "    \n",
    "    return df\n"
   ],
   "id": "d85ec239783159e"
  },
  {
   "metadata": {},
   "cell_type": "code",
   "outputs": [],
   "execution_count": null,
   "source": [
    "files = sorted([os.path.join(DATA_DIR, f) for f in os.listdir(DATA_DIR) if f.endswith('.xlsx')])\n",
    "\n",
    "# Leer un día (por ejemplo el primero)\n",
    "df_day = read_session_file(files[0])\n",
    "\n",
    "df_day.head()\n"
   ],
   "id": "c4ceb099ec3a232a"
  },
  {
   "metadata": {},
   "cell_type": "code",
   "outputs": [],
   "execution_count": null,
   "source": [
    "plt.figure(figsize=(15,5))\n",
    "plt.plot(df_day['time_es'], df_day['price_avg'], label='Precio medio (High-Low)')\n",
    "plt.xlabel('Hora España')\n",
    "plt.ylabel('Precio')\n",
    "plt.title('Precio medio de barras SPY')\n",
    "plt.legend()\n",
    "plt.grid(True)\n",
    "plt.show()\n"
   ],
   "id": "6754b5e7fe95b83"
  }
 ],
 "metadata": {
  "kernelspec": {
   "display_name": "Python 3",
   "language": "python",
   "name": "python3"
  },
  "language_info": {
   "codemirror_mode": {
    "name": "ipython",
    "version": 2
   },
   "file_extension": ".py",
   "mimetype": "text/x-python",
   "name": "python",
   "nbconvert_exporter": "python",
   "pygments_lexer": "ipython2",
   "version": "2.7.6"
  }
 },
 "nbformat": 4,
 "nbformat_minor": 5
}
